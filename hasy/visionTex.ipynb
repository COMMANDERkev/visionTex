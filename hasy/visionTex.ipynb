{
 "cells": [
  {
   "cell_type": "code",
   "execution_count": 3,
   "metadata": {},
   "outputs": [],
   "source": [
    "import os\n",
    "directory = os.getcwd()"
   ]
  },
  {
   "cell_type": "code",
   "execution_count": 10,
   "metadata": {},
   "outputs": [],
   "source": [
    "hasyv2_path = \"../input/HASYv2\"\n",
    "hasyv2_path = os.path.abspath(hasyv2_path)"
   ]
  },
  {
   "cell_type": "code",
   "execution_count": 11,
   "metadata": {},
   "outputs": [
    {
     "output_type": "stream",
     "name": "stdout",
     "text": "['classification-task', 'hasy-data', 'hasy-data-labels.csv', 'hasy_tools.py', 'README.txt', 'symbols.csv', 'verification-task', '__pycache__']\n"
    }
   ],
   "source": [
    "print(os.listdir(hasyv2_path))\n",
    "os.chdir(hasyv2_path)"
   ]
  },
  {
   "cell_type": "code",
   "execution_count": 12,
   "metadata": {},
   "outputs": [
    {
     "output_type": "stream",
     "name": "stdout",
     "text": "{'hasy-data-labels': 'm:\\\\Kevin\\\\code\\\\python\\\\visionTex\\\\input\\\\HASYv2\\\\hasy-data-labels.csv', 'symbols': 'm:\\\\Kevin\\\\code\\\\python\\\\visionTex\\\\input\\\\HASYv2\\\\symbols.csv'}\n"
    }
   ],
   "source": [
    "import pandas as pd\n",
    "\n",
    "csv_files = {}\n",
    "for f in os.listdir():\n",
    "    if f.endswith(\".csv\"):\n",
    "        csv_files[f.split(\".\")[0]] = os.path.abspath(f)      \n",
    "print(csv_files)"
   ]
  },
  {
   "cell_type": "code",
   "execution_count": 13,
   "metadata": {},
   "outputs": [],
   "source": [
    "labels = pd.read_csv(csv_files['hasy-data-labels'])\n",
    "symbols = pd.read_csv(csv_files['symbols'])"
   ]
  },
  {
   "cell_type": "code",
   "execution_count": 14,
   "metadata": {},
   "outputs": [
    {
     "output_type": "stream",
     "name": "stdout",
     "text": "path  symbol_id latex  user_id\n0  hasy-data/v2-00000.png         31     A       50\n1  hasy-data/v2-00001.png         31     A       10\n2  hasy-data/v2-00002.png         31     A       43\n3  hasy-data/v2-00003.png         31     A       43\n4  hasy-data/v2-00004.png         31     A     4435\nRangeIndex(start=0, stop=168233, step=1)\nIndex(['path', 'symbol_id', 'latex', 'user_id'], dtype='object')\n"
    }
   ],
   "source": [
    "print(labels.head())\n",
    "print(labels.index)\n",
    "print(labels.columns)"
   ]
  },
  {
   "cell_type": "code",
   "execution_count": 17,
   "metadata": {},
   "outputs": [
    {
     "output_type": "stream",
     "name": "stdout",
     "text": "symbol_id           latex  training_samples  test_samples\n0           31               A               137            22\n1           32               B                53             8\n2           33               C               120            14\n3           34               D                50             8\n4           35               E                48             6\n..         ...             ...               ...           ...\n364       1385              \\O               213            24\n365       1394              \\o               282            32\n366       1395             \\ae               257            29\n367       1396             \\AE               134            15\n368       1400  \\guillemotleft                96            11\n\n[369 rows x 4 columns]\nRangeIndex(start=0, stop=369, step=1)\nIndex(['symbol_id', 'latex', 'training_samples', 'test_samples'], dtype='object')\n"
    }
   ],
   "source": [
    "print(symbols)\n",
    "print(symbols.index)\n",
    "print(symbols.columns)"
   ]
  },
  {
   "cell_type": "code",
   "execution_count": null,
   "metadata": {},
   "outputs": [],
   "source": []
  }
 ],
 "metadata": {
  "kernelspec": {
   "display_name": "Python 3.8.2 64-bit ('visionTex': conda)",
   "language": "python",
   "name": "python38264bitvisiontexconda3d8988b75ad145a7a126725f4c92c2f2"
  },
  "language_info": {
   "codemirror_mode": {
    "name": "ipython",
    "version": 3
   },
   "file_extension": ".py",
   "mimetype": "text/x-python",
   "name": "python",
   "nbconvert_exporter": "python",
   "pygments_lexer": "ipython3",
   "version": "3.8.2-final"
  }
 },
 "nbformat": 4,
 "nbformat_minor": 4
}